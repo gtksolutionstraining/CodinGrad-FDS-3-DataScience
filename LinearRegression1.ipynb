{
 "cells": [
  {
   "cell_type": "code",
   "execution_count": 2,
   "id": "ed31b489-23e5-408d-87fd-e99ec4db7e23",
   "metadata": {},
   "outputs": [],
   "source": [
    "import torch\n",
    "import numpy as np\n",
    "import pandas as pd\n",
    "import torch.nn.functional as F"
   ]
  },
  {
   "cell_type": "code",
   "execution_count": 27,
   "id": "0faf38df-6634-4cb9-a2e7-f676810b6afb",
   "metadata": {},
   "outputs": [],
   "source": [
    "def preprocess_data(data_path):\n",
    "    data = pd.read_csv(data_path)\n",
    "    features = data.columns.to_list()\n",
    "    features.remove('PassengerId')\n",
    "    features.remove('Name')\n",
    "    features.remove('Ticket')\n",
    "    features.remove('Embarked')\n",
    "    features.remove('Parch')\n",
    "    features.remove('Cabin')\n",
    "    features.remove('Pclass')\n",
    "    features.remove('Survived')\n",
    "    x_data = data[features]\n",
    "    y_data = data['Survived']\n",
    "    x_data['Sex'] = x_data['Sex'].apply(lambda x:0 if x=='male' else 1)\n",
    "    x_data['Age'].fillna(x_data['Age'].mean(),inplace=True)\n",
    "    x_data['Fare'].fillna(x_data['Fare'].median(),inplace=True)\n",
    "    x_data = torch.tensor(x_data.to_numpy(),dtype=torch.float32) ## Computation on top of this array will be executed on GPU\n",
    "    y_data = torch.tensor(y_data.to_numpy(),dtype=torch.float32)\n",
    "    return x_data,y_data"
   ]
  },
  {
   "cell_type": "code",
   "execution_count": 28,
   "id": "cbf4ac83-c35b-4523-8915-8695cd785cd1",
   "metadata": {},
   "outputs": [
    {
     "name": "stderr",
     "output_type": "stream",
     "text": [
      "/var/folders/l4/hzr9pnz537ld_hkhgw859klm0000gn/T/ipykernel_1186/3308248062.py:14: SettingWithCopyWarning: \n",
      "A value is trying to be set on a copy of a slice from a DataFrame.\n",
      "Try using .loc[row_indexer,col_indexer] = value instead\n",
      "\n",
      "See the caveats in the documentation: https://pandas.pydata.org/pandas-docs/stable/user_guide/indexing.html#returning-a-view-versus-a-copy\n",
      "  x_data['Sex'] = x_data['Sex'].apply(lambda x:0 if x=='male' else 1)\n",
      "/var/folders/l4/hzr9pnz537ld_hkhgw859klm0000gn/T/ipykernel_1186/3308248062.py:15: SettingWithCopyWarning: \n",
      "A value is trying to be set on a copy of a slice from a DataFrame\n",
      "\n",
      "See the caveats in the documentation: https://pandas.pydata.org/pandas-docs/stable/user_guide/indexing.html#returning-a-view-versus-a-copy\n",
      "  x_data['Age'].fillna(x_data['Age'].mean(),inplace=True)\n",
      "/var/folders/l4/hzr9pnz537ld_hkhgw859klm0000gn/T/ipykernel_1186/3308248062.py:16: SettingWithCopyWarning: \n",
      "A value is trying to be set on a copy of a slice from a DataFrame\n",
      "\n",
      "See the caveats in the documentation: https://pandas.pydata.org/pandas-docs/stable/user_guide/indexing.html#returning-a-view-versus-a-copy\n",
      "  x_data['Fare'].fillna(x_data['Fare'].median(),inplace=True)\n"
     ]
    }
   ],
   "source": [
    "x_data,y_data = preprocess_data('tested.csv')"
   ]
  },
  {
   "cell_type": "code",
   "execution_count": 29,
   "id": "9edfe69a-bd0e-43ea-84b3-606be8befe5d",
   "metadata": {},
   "outputs": [
    {
     "data": {
      "text/plain": [
       "(torch.Size([418, 4]), torch.Size([418]))"
      ]
     },
     "execution_count": 29,
     "metadata": {},
     "output_type": "execute_result"
    }
   ],
   "source": [
    "x_data.shape,y_data.shape"
   ]
  },
  {
   "cell_type": "code",
   "execution_count": 138,
   "id": "c5ac9d7e-f2e0-4d14-b200-9f5f0c3d8d46",
   "metadata": {},
   "outputs": [],
   "source": [
    "def forward(X,Y,W,b):\n",
    "    Y_pred = X @ W + b\n",
    "    Y_pred = F.sigmoid(Y_pred)\n",
    "    # Y_pred.detach().apply_(lambda x:0 if x<0.5 else 1)\n",
    "    # Y_pred.requires_grad = True\n",
    "    loss = F.binary_cross_entropy(Y_pred,Y)\n",
    "    return loss"
   ]
  },
  {
   "cell_type": "code",
   "execution_count": 161,
   "id": "dbda3e4e-c6c1-42c9-a33f-c72caf3b12e7",
   "metadata": {},
   "outputs": [],
   "source": [
    "def backward(W,b,loss):\n",
    "    W.grad = None\n",
    "    b.grad = None\n",
    "    loss.backward()\n",
    "    W.data -= (0.001)*W.grad\n",
    "    b.data -= (0.001)*b.grad\n",
    "    return W,b"
   ]
  },
  {
   "cell_type": "code",
   "execution_count": 162,
   "id": "7edb2283-d98b-40a9-a2e0-3c37f33b28aa",
   "metadata": {},
   "outputs": [],
   "source": [
    "def train(X,Y):\n",
    "    W = torch.randn((4,),dtype=torch.float32,requires_grad=True)\n",
    "    b = torch.randn((1,),dtype=torch.float32,requires_grad=True)\n",
    "    for iteration in range(100):\n",
    "        loss = forward(X,Y,W,b)\n",
    "        W,b = backward(W,b,loss)\n",
    "        print(f\"Iteration {iteration}: loss = {loss}\")\n",
    "    return W,b"
   ]
  },
  {
   "cell_type": "code",
   "execution_count": 163,
   "id": "77852707-16a1-4e79-9ec6-cbcf5eee087a",
   "metadata": {},
   "outputs": [],
   "source": [
    "# NUmber of epochs = 100\n",
    "# 1 Epoch --> Traversing whole dataset once\n",
    "# How much we are moving W,b towards minimum loss is called learning rate.\n"
   ]
  },
  {
   "cell_type": "code",
   "execution_count": 164,
   "id": "c35a4ea4-f07c-4f3e-9fde-46708fd05943",
   "metadata": {},
   "outputs": [
    {
     "name": "stdout",
     "output_type": "stream",
     "text": [
      "Iteration 0: loss = 3.1151912212371826\n",
      "Iteration 1: loss = 2.758324384689331\n",
      "Iteration 2: loss = 2.49771785736084\n",
      "Iteration 3: loss = 2.3199093341827393\n",
      "Iteration 4: loss = 2.1997387409210205\n",
      "Iteration 5: loss = 2.3069539070129395\n",
      "Iteration 6: loss = 2.224912166595459\n",
      "Iteration 7: loss = 2.153271198272705\n",
      "Iteration 8: loss = 2.0891621112823486\n",
      "Iteration 9: loss = 2.030573606491089\n",
      "Iteration 10: loss = 1.976215124130249\n",
      "Iteration 11: loss = 1.9252406358718872\n",
      "Iteration 12: loss = 1.87703537940979\n",
      "Iteration 13: loss = 1.8310773372650146\n",
      "Iteration 14: loss = 1.7870163917541504\n",
      "Iteration 15: loss = 1.7445131540298462\n",
      "Iteration 16: loss = 1.7034159898757935\n",
      "Iteration 17: loss = 1.6635257005691528\n",
      "Iteration 18: loss = 1.624699354171753\n",
      "Iteration 19: loss = 1.5868898630142212\n",
      "Iteration 20: loss = 1.550022840499878\n",
      "Iteration 21: loss = 1.5140366554260254\n",
      "Iteration 22: loss = 1.4789166450500488\n",
      "Iteration 23: loss = 1.4446383714675903\n",
      "Iteration 24: loss = 1.4111815690994263\n",
      "Iteration 25: loss = 1.3785232305526733\n",
      "Iteration 26: loss = 1.3466839790344238\n",
      "Iteration 27: loss = 1.3156492710113525\n",
      "Iteration 28: loss = 1.0843336582183838\n",
      "Iteration 29: loss = 1.0535696744918823\n",
      "Iteration 30: loss = 1.0209970474243164\n",
      "Iteration 31: loss = 0.9907028675079346\n",
      "Iteration 32: loss = 0.9606680274009705\n",
      "Iteration 33: loss = 0.9318380355834961\n",
      "Iteration 34: loss = 0.9040945768356323\n",
      "Iteration 35: loss = 0.8774662017822266\n",
      "Iteration 36: loss = 0.8520103096961975\n",
      "Iteration 37: loss = 0.8277921080589294\n",
      "Iteration 38: loss = 0.8048627376556396\n",
      "Iteration 39: loss = 0.7832761406898499\n",
      "Iteration 40: loss = 0.7630844712257385\n",
      "Iteration 41: loss = 0.7443189024925232\n",
      "Iteration 42: loss = 0.7270073890686035\n",
      "Iteration 43: loss = 0.7111619114875793\n",
      "Iteration 44: loss = 0.6967750191688538\n",
      "Iteration 45: loss = 0.683821976184845\n",
      "Iteration 46: loss = 0.6722584962844849\n",
      "Iteration 47: loss = 0.6620240211486816\n",
      "Iteration 48: loss = 0.6530420780181885\n",
      "Iteration 49: loss = 0.6452250480651855\n",
      "Iteration 50: loss = 0.6384773254394531\n",
      "Iteration 51: loss = 0.6326982378959656\n",
      "Iteration 52: loss = 0.6277857422828674\n",
      "Iteration 53: loss = 0.6236398220062256\n",
      "Iteration 54: loss = 0.6201639771461487\n",
      "Iteration 55: loss = 0.6172679662704468\n",
      "Iteration 56: loss = 0.6148685812950134\n",
      "Iteration 57: loss = 0.6128907203674316\n",
      "Iteration 58: loss = 0.611267626285553\n",
      "Iteration 59: loss = 0.6099405884742737\n",
      "Iteration 60: loss = 0.6088588833808899\n",
      "Iteration 61: loss = 0.6079793572425842\n",
      "Iteration 62: loss = 0.6072649359703064\n",
      "Iteration 63: loss = 0.6066849827766418\n",
      "Iteration 64: loss = 0.6062139868736267\n",
      "Iteration 65: loss = 0.6058306694030762\n",
      "Iteration 66: loss = 0.6055178046226501\n",
      "Iteration 67: loss = 0.6052610874176025\n",
      "Iteration 68: loss = 0.6050494909286499\n",
      "Iteration 69: loss = 0.6048734188079834\n",
      "Iteration 70: loss = 0.60472571849823\n",
      "Iteration 71: loss = 0.6046003103256226\n",
      "Iteration 72: loss = 0.6044926047325134\n",
      "Iteration 73: loss = 0.6043989062309265\n",
      "Iteration 74: loss = 0.604315996170044\n",
      "Iteration 75: loss = 0.604241669178009\n",
      "Iteration 76: loss = 0.6041741371154785\n",
      "Iteration 77: loss = 0.6041119694709778\n",
      "Iteration 78: loss = 0.6040539741516113\n",
      "Iteration 79: loss = 0.6039990782737732\n",
      "Iteration 80: loss = 0.6039466857910156\n",
      "Iteration 81: loss = 0.6038963794708252\n",
      "Iteration 82: loss = 0.6038476228713989\n",
      "Iteration 83: loss = 0.6038000583648682\n",
      "Iteration 84: loss = 0.6037535071372986\n",
      "Iteration 85: loss = 0.603707492351532\n",
      "Iteration 86: loss = 0.6036623120307922\n",
      "Iteration 87: loss = 0.6036173701286316\n",
      "Iteration 88: loss = 0.6035727262496948\n",
      "Iteration 89: loss = 0.6035285592079163\n",
      "Iteration 90: loss = 0.6034845113754272\n",
      "Iteration 91: loss = 0.6034407019615173\n",
      "Iteration 92: loss = 0.6033968925476074\n",
      "Iteration 93: loss = 0.6033532619476318\n",
      "Iteration 94: loss = 0.6033097505569458\n",
      "Iteration 95: loss = 0.6032662987709045\n",
      "Iteration 96: loss = 0.6032227873802185\n",
      "Iteration 97: loss = 0.603179395198822\n",
      "Iteration 98: loss = 0.6031361222267151\n",
      "Iteration 99: loss = 0.6030927300453186\n"
     ]
    }
   ],
   "source": [
    "W,b = train(x_data,y_data)"
   ]
  },
  {
   "cell_type": "code",
   "execution_count": 165,
   "id": "e1278cc5-52d8-4286-bde0-ef2c07f45715",
   "metadata": {},
   "outputs": [
    {
     "data": {
      "text/plain": [
       "tensor([ 0.2948, -0.0368,  0.5827,  0.0066], requires_grad=True)"
      ]
     },
     "execution_count": 165,
     "metadata": {},
     "output_type": "execute_result"
    }
   ],
   "source": [
    "W"
   ]
  },
  {
   "cell_type": "code",
   "execution_count": 166,
   "id": "0d6f4713-9556-4261-8544-881f4e16019e",
   "metadata": {},
   "outputs": [
    {
     "data": {
      "text/plain": [
       "tensor([0.0833], requires_grad=True)"
      ]
     },
     "execution_count": 166,
     "metadata": {},
     "output_type": "execute_result"
    }
   ],
   "source": [
    "b"
   ]
  },
  {
   "cell_type": "code",
   "execution_count": 167,
   "id": "9c42f639-3662-4e12-9802-7a92246d53db",
   "metadata": {},
   "outputs": [],
   "source": [
    "## Forward Progagation"
   ]
  },
  {
   "cell_type": "code",
   "execution_count": 168,
   "id": "519612a0-5e98-42c0-869a-7f519231b99f",
   "metadata": {},
   "outputs": [],
   "source": [
    "## Backward Propagation"
   ]
  },
  {
   "cell_type": "code",
   "execution_count": null,
   "id": "4a015de9-5bd8-4538-b125-b38a95c2f91c",
   "metadata": {},
   "outputs": [],
   "source": [
    "## Gradient Descent"
   ]
  },
  {
   "cell_type": "code",
   "execution_count": null,
   "id": "9e515dfa-93b7-4337-bb98-7efc6f7bad73",
   "metadata": {},
   "outputs": [],
   "source": []
  },
  {
   "cell_type": "code",
   "execution_count": null,
   "id": "bab2d0b9-a415-4360-81dd-51863d6283dd",
   "metadata": {},
   "outputs": [],
   "source": []
  },
  {
   "cell_type": "code",
   "execution_count": null,
   "id": "0ea21642-d342-4ba0-a545-9fa04fe35fa2",
   "metadata": {},
   "outputs": [],
   "source": []
  },
  {
   "cell_type": "code",
   "execution_count": null,
   "id": "71ab969d-4c8a-40c2-b5b3-26baf16a7641",
   "metadata": {},
   "outputs": [],
   "source": []
  },
  {
   "cell_type": "code",
   "execution_count": null,
   "id": "1336b288-4546-4a0a-a5a7-3a05ccb007da",
   "metadata": {},
   "outputs": [],
   "source": []
  },
  {
   "cell_type": "code",
   "execution_count": null,
   "id": "06dcbb98-1402-4c30-8514-41429ec5e841",
   "metadata": {},
   "outputs": [],
   "source": []
  },
  {
   "cell_type": "code",
   "execution_count": null,
   "id": "b55cc21b-b376-4ba1-b7cc-01ce7a3dc1ac",
   "metadata": {},
   "outputs": [],
   "source": []
  },
  {
   "cell_type": "code",
   "execution_count": null,
   "id": "c4ecd0f1-0c32-4731-ba48-cc0e52d78536",
   "metadata": {},
   "outputs": [],
   "source": []
  },
  {
   "cell_type": "code",
   "execution_count": null,
   "id": "e3343beb-d30f-4ba8-8db1-acd3e3aa92e5",
   "metadata": {},
   "outputs": [],
   "source": []
  },
  {
   "cell_type": "code",
   "execution_count": 3,
   "id": "3effbd8d-db06-4836-8253-8886757e996f",
   "metadata": {},
   "outputs": [],
   "source": [
    "df = pd.read_csv(\"tested.csv\")"
   ]
  },
  {
   "cell_type": "code",
   "execution_count": 4,
   "id": "fbdfe0f1-52ce-4734-9bfd-b76fea06edf7",
   "metadata": {},
   "outputs": [
    {
     "data": {
      "text/html": [
       "<div>\n",
       "<style scoped>\n",
       "    .dataframe tbody tr th:only-of-type {\n",
       "        vertical-align: middle;\n",
       "    }\n",
       "\n",
       "    .dataframe tbody tr th {\n",
       "        vertical-align: top;\n",
       "    }\n",
       "\n",
       "    .dataframe thead th {\n",
       "        text-align: right;\n",
       "    }\n",
       "</style>\n",
       "<table border=\"1\" class=\"dataframe\">\n",
       "  <thead>\n",
       "    <tr style=\"text-align: right;\">\n",
       "      <th></th>\n",
       "      <th>PassengerId</th>\n",
       "      <th>Survived</th>\n",
       "      <th>Pclass</th>\n",
       "      <th>Name</th>\n",
       "      <th>Sex</th>\n",
       "      <th>Age</th>\n",
       "      <th>SibSp</th>\n",
       "      <th>Parch</th>\n",
       "      <th>Ticket</th>\n",
       "      <th>Fare</th>\n",
       "      <th>Cabin</th>\n",
       "      <th>Embarked</th>\n",
       "    </tr>\n",
       "  </thead>\n",
       "  <tbody>\n",
       "    <tr>\n",
       "      <th>0</th>\n",
       "      <td>892</td>\n",
       "      <td>0</td>\n",
       "      <td>3</td>\n",
       "      <td>Kelly, Mr. James</td>\n",
       "      <td>male</td>\n",
       "      <td>34.5</td>\n",
       "      <td>0</td>\n",
       "      <td>0</td>\n",
       "      <td>330911</td>\n",
       "      <td>7.8292</td>\n",
       "      <td>NaN</td>\n",
       "      <td>Q</td>\n",
       "    </tr>\n",
       "    <tr>\n",
       "      <th>1</th>\n",
       "      <td>893</td>\n",
       "      <td>1</td>\n",
       "      <td>3</td>\n",
       "      <td>Wilkes, Mrs. James (Ellen Needs)</td>\n",
       "      <td>female</td>\n",
       "      <td>47.0</td>\n",
       "      <td>1</td>\n",
       "      <td>0</td>\n",
       "      <td>363272</td>\n",
       "      <td>7.0000</td>\n",
       "      <td>NaN</td>\n",
       "      <td>S</td>\n",
       "    </tr>\n",
       "    <tr>\n",
       "      <th>2</th>\n",
       "      <td>894</td>\n",
       "      <td>0</td>\n",
       "      <td>2</td>\n",
       "      <td>Myles, Mr. Thomas Francis</td>\n",
       "      <td>male</td>\n",
       "      <td>62.0</td>\n",
       "      <td>0</td>\n",
       "      <td>0</td>\n",
       "      <td>240276</td>\n",
       "      <td>9.6875</td>\n",
       "      <td>NaN</td>\n",
       "      <td>Q</td>\n",
       "    </tr>\n",
       "    <tr>\n",
       "      <th>3</th>\n",
       "      <td>895</td>\n",
       "      <td>0</td>\n",
       "      <td>3</td>\n",
       "      <td>Wirz, Mr. Albert</td>\n",
       "      <td>male</td>\n",
       "      <td>27.0</td>\n",
       "      <td>0</td>\n",
       "      <td>0</td>\n",
       "      <td>315154</td>\n",
       "      <td>8.6625</td>\n",
       "      <td>NaN</td>\n",
       "      <td>S</td>\n",
       "    </tr>\n",
       "    <tr>\n",
       "      <th>4</th>\n",
       "      <td>896</td>\n",
       "      <td>1</td>\n",
       "      <td>3</td>\n",
       "      <td>Hirvonen, Mrs. Alexander (Helga E Lindqvist)</td>\n",
       "      <td>female</td>\n",
       "      <td>22.0</td>\n",
       "      <td>1</td>\n",
       "      <td>1</td>\n",
       "      <td>3101298</td>\n",
       "      <td>12.2875</td>\n",
       "      <td>NaN</td>\n",
       "      <td>S</td>\n",
       "    </tr>\n",
       "    <tr>\n",
       "      <th>...</th>\n",
       "      <td>...</td>\n",
       "      <td>...</td>\n",
       "      <td>...</td>\n",
       "      <td>...</td>\n",
       "      <td>...</td>\n",
       "      <td>...</td>\n",
       "      <td>...</td>\n",
       "      <td>...</td>\n",
       "      <td>...</td>\n",
       "      <td>...</td>\n",
       "      <td>...</td>\n",
       "      <td>...</td>\n",
       "    </tr>\n",
       "    <tr>\n",
       "      <th>413</th>\n",
       "      <td>1305</td>\n",
       "      <td>0</td>\n",
       "      <td>3</td>\n",
       "      <td>Spector, Mr. Woolf</td>\n",
       "      <td>male</td>\n",
       "      <td>NaN</td>\n",
       "      <td>0</td>\n",
       "      <td>0</td>\n",
       "      <td>A.5. 3236</td>\n",
       "      <td>8.0500</td>\n",
       "      <td>NaN</td>\n",
       "      <td>S</td>\n",
       "    </tr>\n",
       "    <tr>\n",
       "      <th>414</th>\n",
       "      <td>1306</td>\n",
       "      <td>1</td>\n",
       "      <td>1</td>\n",
       "      <td>Oliva y Ocana, Dona. Fermina</td>\n",
       "      <td>female</td>\n",
       "      <td>39.0</td>\n",
       "      <td>0</td>\n",
       "      <td>0</td>\n",
       "      <td>PC 17758</td>\n",
       "      <td>108.9000</td>\n",
       "      <td>C105</td>\n",
       "      <td>C</td>\n",
       "    </tr>\n",
       "    <tr>\n",
       "      <th>415</th>\n",
       "      <td>1307</td>\n",
       "      <td>0</td>\n",
       "      <td>3</td>\n",
       "      <td>Saether, Mr. Simon Sivertsen</td>\n",
       "      <td>male</td>\n",
       "      <td>38.5</td>\n",
       "      <td>0</td>\n",
       "      <td>0</td>\n",
       "      <td>SOTON/O.Q. 3101262</td>\n",
       "      <td>7.2500</td>\n",
       "      <td>NaN</td>\n",
       "      <td>S</td>\n",
       "    </tr>\n",
       "    <tr>\n",
       "      <th>416</th>\n",
       "      <td>1308</td>\n",
       "      <td>0</td>\n",
       "      <td>3</td>\n",
       "      <td>Ware, Mr. Frederick</td>\n",
       "      <td>male</td>\n",
       "      <td>NaN</td>\n",
       "      <td>0</td>\n",
       "      <td>0</td>\n",
       "      <td>359309</td>\n",
       "      <td>8.0500</td>\n",
       "      <td>NaN</td>\n",
       "      <td>S</td>\n",
       "    </tr>\n",
       "    <tr>\n",
       "      <th>417</th>\n",
       "      <td>1309</td>\n",
       "      <td>0</td>\n",
       "      <td>3</td>\n",
       "      <td>Peter, Master. Michael J</td>\n",
       "      <td>male</td>\n",
       "      <td>NaN</td>\n",
       "      <td>1</td>\n",
       "      <td>1</td>\n",
       "      <td>2668</td>\n",
       "      <td>22.3583</td>\n",
       "      <td>NaN</td>\n",
       "      <td>C</td>\n",
       "    </tr>\n",
       "  </tbody>\n",
       "</table>\n",
       "<p>418 rows × 12 columns</p>\n",
       "</div>"
      ],
      "text/plain": [
       "     PassengerId  Survived  Pclass  \\\n",
       "0            892         0       3   \n",
       "1            893         1       3   \n",
       "2            894         0       2   \n",
       "3            895         0       3   \n",
       "4            896         1       3   \n",
       "..           ...       ...     ...   \n",
       "413         1305         0       3   \n",
       "414         1306         1       1   \n",
       "415         1307         0       3   \n",
       "416         1308         0       3   \n",
       "417         1309         0       3   \n",
       "\n",
       "                                             Name     Sex   Age  SibSp  Parch  \\\n",
       "0                                Kelly, Mr. James    male  34.5      0      0   \n",
       "1                Wilkes, Mrs. James (Ellen Needs)  female  47.0      1      0   \n",
       "2                       Myles, Mr. Thomas Francis    male  62.0      0      0   \n",
       "3                                Wirz, Mr. Albert    male  27.0      0      0   \n",
       "4    Hirvonen, Mrs. Alexander (Helga E Lindqvist)  female  22.0      1      1   \n",
       "..                                            ...     ...   ...    ...    ...   \n",
       "413                            Spector, Mr. Woolf    male   NaN      0      0   \n",
       "414                  Oliva y Ocana, Dona. Fermina  female  39.0      0      0   \n",
       "415                  Saether, Mr. Simon Sivertsen    male  38.5      0      0   \n",
       "416                           Ware, Mr. Frederick    male   NaN      0      0   \n",
       "417                      Peter, Master. Michael J    male   NaN      1      1   \n",
       "\n",
       "                 Ticket      Fare Cabin Embarked  \n",
       "0                330911    7.8292   NaN        Q  \n",
       "1                363272    7.0000   NaN        S  \n",
       "2                240276    9.6875   NaN        Q  \n",
       "3                315154    8.6625   NaN        S  \n",
       "4               3101298   12.2875   NaN        S  \n",
       "..                  ...       ...   ...      ...  \n",
       "413           A.5. 3236    8.0500   NaN        S  \n",
       "414            PC 17758  108.9000  C105        C  \n",
       "415  SOTON/O.Q. 3101262    7.2500   NaN        S  \n",
       "416              359309    8.0500   NaN        S  \n",
       "417                2668   22.3583   NaN        C  \n",
       "\n",
       "[418 rows x 12 columns]"
      ]
     },
     "execution_count": 4,
     "metadata": {},
     "output_type": "execute_result"
    }
   ],
   "source": [
    "df"
   ]
  },
  {
   "cell_type": "code",
   "execution_count": 5,
   "id": "c6de6b6e-a84f-4cf2-ba3a-e619f19c612a",
   "metadata": {},
   "outputs": [],
   "source": [
    "features = df.columns.to_list()"
   ]
  },
  {
   "cell_type": "code",
   "execution_count": 6,
   "id": "06b8f717-12ee-490a-a9d6-23d7fffb1785",
   "metadata": {},
   "outputs": [],
   "source": [
    "features.remove('Name')\n",
    "features.remove('PassengerId')\n",
    "features.remove('Ticket')\n",
    "features.remove('Cabin')\n",
    "features.remove('Embarked')"
   ]
  },
  {
   "cell_type": "code",
   "execution_count": 7,
   "id": "49b903a3-3ee5-49ca-b8d8-2bd54223218d",
   "metadata": {},
   "outputs": [],
   "source": [
    "features.remove('Survived')"
   ]
  },
  {
   "cell_type": "code",
   "execution_count": 9,
   "id": "471fa8ef-d17b-499c-92fb-f869b7f3c887",
   "metadata": {},
   "outputs": [],
   "source": [
    "features.remove('Pclass')\n",
    "features.remove('Parch')"
   ]
  },
  {
   "cell_type": "code",
   "execution_count": 10,
   "id": "4604509b-d332-4a54-a514-3d36f88f4742",
   "metadata": {},
   "outputs": [
    {
     "data": {
      "text/html": [
       "<div>\n",
       "<style scoped>\n",
       "    .dataframe tbody tr th:only-of-type {\n",
       "        vertical-align: middle;\n",
       "    }\n",
       "\n",
       "    .dataframe tbody tr th {\n",
       "        vertical-align: top;\n",
       "    }\n",
       "\n",
       "    .dataframe thead th {\n",
       "        text-align: right;\n",
       "    }\n",
       "</style>\n",
       "<table border=\"1\" class=\"dataframe\">\n",
       "  <thead>\n",
       "    <tr style=\"text-align: right;\">\n",
       "      <th></th>\n",
       "      <th>Sex</th>\n",
       "      <th>Age</th>\n",
       "      <th>SibSp</th>\n",
       "      <th>Fare</th>\n",
       "    </tr>\n",
       "  </thead>\n",
       "  <tbody>\n",
       "    <tr>\n",
       "      <th>0</th>\n",
       "      <td>male</td>\n",
       "      <td>34.5</td>\n",
       "      <td>0</td>\n",
       "      <td>7.8292</td>\n",
       "    </tr>\n",
       "    <tr>\n",
       "      <th>1</th>\n",
       "      <td>female</td>\n",
       "      <td>47.0</td>\n",
       "      <td>1</td>\n",
       "      <td>7.0000</td>\n",
       "    </tr>\n",
       "    <tr>\n",
       "      <th>2</th>\n",
       "      <td>male</td>\n",
       "      <td>62.0</td>\n",
       "      <td>0</td>\n",
       "      <td>9.6875</td>\n",
       "    </tr>\n",
       "    <tr>\n",
       "      <th>3</th>\n",
       "      <td>male</td>\n",
       "      <td>27.0</td>\n",
       "      <td>0</td>\n",
       "      <td>8.6625</td>\n",
       "    </tr>\n",
       "    <tr>\n",
       "      <th>4</th>\n",
       "      <td>female</td>\n",
       "      <td>22.0</td>\n",
       "      <td>1</td>\n",
       "      <td>12.2875</td>\n",
       "    </tr>\n",
       "    <tr>\n",
       "      <th>...</th>\n",
       "      <td>...</td>\n",
       "      <td>...</td>\n",
       "      <td>...</td>\n",
       "      <td>...</td>\n",
       "    </tr>\n",
       "    <tr>\n",
       "      <th>413</th>\n",
       "      <td>male</td>\n",
       "      <td>NaN</td>\n",
       "      <td>0</td>\n",
       "      <td>8.0500</td>\n",
       "    </tr>\n",
       "    <tr>\n",
       "      <th>414</th>\n",
       "      <td>female</td>\n",
       "      <td>39.0</td>\n",
       "      <td>0</td>\n",
       "      <td>108.9000</td>\n",
       "    </tr>\n",
       "    <tr>\n",
       "      <th>415</th>\n",
       "      <td>male</td>\n",
       "      <td>38.5</td>\n",
       "      <td>0</td>\n",
       "      <td>7.2500</td>\n",
       "    </tr>\n",
       "    <tr>\n",
       "      <th>416</th>\n",
       "      <td>male</td>\n",
       "      <td>NaN</td>\n",
       "      <td>0</td>\n",
       "      <td>8.0500</td>\n",
       "    </tr>\n",
       "    <tr>\n",
       "      <th>417</th>\n",
       "      <td>male</td>\n",
       "      <td>NaN</td>\n",
       "      <td>1</td>\n",
       "      <td>22.3583</td>\n",
       "    </tr>\n",
       "  </tbody>\n",
       "</table>\n",
       "<p>418 rows × 4 columns</p>\n",
       "</div>"
      ],
      "text/plain": [
       "        Sex   Age  SibSp      Fare\n",
       "0      male  34.5      0    7.8292\n",
       "1    female  47.0      1    7.0000\n",
       "2      male  62.0      0    9.6875\n",
       "3      male  27.0      0    8.6625\n",
       "4    female  22.0      1   12.2875\n",
       "..      ...   ...    ...       ...\n",
       "413    male   NaN      0    8.0500\n",
       "414  female  39.0      0  108.9000\n",
       "415    male  38.5      0    7.2500\n",
       "416    male   NaN      0    8.0500\n",
       "417    male   NaN      1   22.3583\n",
       "\n",
       "[418 rows x 4 columns]"
      ]
     },
     "execution_count": 10,
     "metadata": {},
     "output_type": "execute_result"
    }
   ],
   "source": [
    "df[features]"
   ]
  },
  {
   "cell_type": "code",
   "execution_count": 11,
   "id": "58040f19-0c25-4e19-be8f-682bfec76c24",
   "metadata": {},
   "outputs": [],
   "source": [
    "def "
   ]
  },
  {
   "cell_type": "code",
   "execution_count": 21,
   "id": "0ccf5c89-6beb-4f66-91a0-3f018bb4b573",
   "metadata": {},
   "outputs": [
    {
     "name": "stderr",
     "output_type": "stream",
     "text": [
      "/var/folders/l4/hzr9pnz537ld_hkhgw859klm0000gn/T/ipykernel_1152/3979549114.py:1: SettingWithCopyWarning: \n",
      "A value is trying to be set on a copy of a slice from a DataFrame.\n",
      "Try using .loc[row_indexer,col_indexer] = value instead\n",
      "\n",
      "See the caveats in the documentation: https://pandas.pydata.org/pandas-docs/stable/user_guide/indexing.html#returning-a-view-versus-a-copy\n",
      "  df1['Sex'] = df1['Sex'].apply(lambda x: 0 if x == \"male\" else 1)\n"
     ]
    }
   ],
   "source": [
    "df1['Sex'] = df1['Sex'].apply(lambda x: 0 if x == \"male\" else 1)"
   ]
  },
  {
   "cell_type": "code",
   "execution_count": 22,
   "id": "fa546485-a3e8-4d80-ba43-50c48fdb27ab",
   "metadata": {},
   "outputs": [
    {
     "data": {
      "text/html": [
       "<div>\n",
       "<style scoped>\n",
       "    .dataframe tbody tr th:only-of-type {\n",
       "        vertical-align: middle;\n",
       "    }\n",
       "\n",
       "    .dataframe tbody tr th {\n",
       "        vertical-align: top;\n",
       "    }\n",
       "\n",
       "    .dataframe thead th {\n",
       "        text-align: right;\n",
       "    }\n",
       "</style>\n",
       "<table border=\"1\" class=\"dataframe\">\n",
       "  <thead>\n",
       "    <tr style=\"text-align: right;\">\n",
       "      <th></th>\n",
       "      <th>Pclass</th>\n",
       "      <th>Sex</th>\n",
       "      <th>Age</th>\n",
       "      <th>SibSp</th>\n",
       "      <th>Parch</th>\n",
       "      <th>Fare</th>\n",
       "    </tr>\n",
       "  </thead>\n",
       "  <tbody>\n",
       "    <tr>\n",
       "      <th>0</th>\n",
       "      <td>3</td>\n",
       "      <td>0</td>\n",
       "      <td>34.5</td>\n",
       "      <td>0</td>\n",
       "      <td>0</td>\n",
       "      <td>7.8292</td>\n",
       "    </tr>\n",
       "    <tr>\n",
       "      <th>1</th>\n",
       "      <td>3</td>\n",
       "      <td>1</td>\n",
       "      <td>47.0</td>\n",
       "      <td>1</td>\n",
       "      <td>0</td>\n",
       "      <td>7.0000</td>\n",
       "    </tr>\n",
       "    <tr>\n",
       "      <th>2</th>\n",
       "      <td>2</td>\n",
       "      <td>0</td>\n",
       "      <td>62.0</td>\n",
       "      <td>0</td>\n",
       "      <td>0</td>\n",
       "      <td>9.6875</td>\n",
       "    </tr>\n",
       "    <tr>\n",
       "      <th>3</th>\n",
       "      <td>3</td>\n",
       "      <td>0</td>\n",
       "      <td>27.0</td>\n",
       "      <td>0</td>\n",
       "      <td>0</td>\n",
       "      <td>8.6625</td>\n",
       "    </tr>\n",
       "    <tr>\n",
       "      <th>4</th>\n",
       "      <td>3</td>\n",
       "      <td>1</td>\n",
       "      <td>22.0</td>\n",
       "      <td>1</td>\n",
       "      <td>1</td>\n",
       "      <td>12.2875</td>\n",
       "    </tr>\n",
       "    <tr>\n",
       "      <th>...</th>\n",
       "      <td>...</td>\n",
       "      <td>...</td>\n",
       "      <td>...</td>\n",
       "      <td>...</td>\n",
       "      <td>...</td>\n",
       "      <td>...</td>\n",
       "    </tr>\n",
       "    <tr>\n",
       "      <th>413</th>\n",
       "      <td>3</td>\n",
       "      <td>0</td>\n",
       "      <td>NaN</td>\n",
       "      <td>0</td>\n",
       "      <td>0</td>\n",
       "      <td>8.0500</td>\n",
       "    </tr>\n",
       "    <tr>\n",
       "      <th>414</th>\n",
       "      <td>1</td>\n",
       "      <td>1</td>\n",
       "      <td>39.0</td>\n",
       "      <td>0</td>\n",
       "      <td>0</td>\n",
       "      <td>108.9000</td>\n",
       "    </tr>\n",
       "    <tr>\n",
       "      <th>415</th>\n",
       "      <td>3</td>\n",
       "      <td>0</td>\n",
       "      <td>38.5</td>\n",
       "      <td>0</td>\n",
       "      <td>0</td>\n",
       "      <td>7.2500</td>\n",
       "    </tr>\n",
       "    <tr>\n",
       "      <th>416</th>\n",
       "      <td>3</td>\n",
       "      <td>0</td>\n",
       "      <td>NaN</td>\n",
       "      <td>0</td>\n",
       "      <td>0</td>\n",
       "      <td>8.0500</td>\n",
       "    </tr>\n",
       "    <tr>\n",
       "      <th>417</th>\n",
       "      <td>3</td>\n",
       "      <td>0</td>\n",
       "      <td>NaN</td>\n",
       "      <td>1</td>\n",
       "      <td>1</td>\n",
       "      <td>22.3583</td>\n",
       "    </tr>\n",
       "  </tbody>\n",
       "</table>\n",
       "<p>418 rows × 6 columns</p>\n",
       "</div>"
      ],
      "text/plain": [
       "     Pclass  Sex   Age  SibSp  Parch      Fare\n",
       "0         3    0  34.5      0      0    7.8292\n",
       "1         3    1  47.0      1      0    7.0000\n",
       "2         2    0  62.0      0      0    9.6875\n",
       "3         3    0  27.0      0      0    8.6625\n",
       "4         3    1  22.0      1      1   12.2875\n",
       "..      ...  ...   ...    ...    ...       ...\n",
       "413       3    0   NaN      0      0    8.0500\n",
       "414       1    1  39.0      0      0  108.9000\n",
       "415       3    0  38.5      0      0    7.2500\n",
       "416       3    0   NaN      0      0    8.0500\n",
       "417       3    0   NaN      1      1   22.3583\n",
       "\n",
       "[418 rows x 6 columns]"
      ]
     },
     "execution_count": 22,
     "metadata": {},
     "output_type": "execute_result"
    }
   ],
   "source": [
    "df1"
   ]
  },
  {
   "cell_type": "code",
   "execution_count": 27,
   "id": "304f1b07-b394-4437-b70c-3d6c8709086a",
   "metadata": {},
   "outputs": [
    {
     "name": "stdout",
     "output_type": "stream",
     "text": [
      "<class 'pandas.core.frame.DataFrame'>\n",
      "RangeIndex: 418 entries, 0 to 417\n",
      "Data columns (total 6 columns):\n",
      " #   Column  Non-Null Count  Dtype  \n",
      "---  ------  --------------  -----  \n",
      " 0   Pclass  418 non-null    int64  \n",
      " 1   Sex     418 non-null    int64  \n",
      " 2   Age     332 non-null    float64\n",
      " 3   SibSp   418 non-null    int64  \n",
      " 4   Parch   418 non-null    int64  \n",
      " 5   Fare    417 non-null    float64\n",
      "dtypes: float64(2), int64(4)\n",
      "memory usage: 19.7 KB\n"
     ]
    }
   ],
   "source": [
    "df1.info()"
   ]
  },
  {
   "cell_type": "code",
   "execution_count": 28,
   "id": "865617c0-fc4e-4357-8ee8-f5317ac239ce",
   "metadata": {},
   "outputs": [
    {
     "name": "stderr",
     "output_type": "stream",
     "text": [
      "/var/folders/l4/hzr9pnz537ld_hkhgw859klm0000gn/T/ipykernel_1152/3169937590.py:1: SettingWithCopyWarning: \n",
      "A value is trying to be set on a copy of a slice from a DataFrame\n",
      "\n",
      "See the caveats in the documentation: https://pandas.pydata.org/pandas-docs/stable/user_guide/indexing.html#returning-a-view-versus-a-copy\n",
      "  df1['Age'].fillna(df1['Age'].mean(),inplace=True)\n"
     ]
    }
   ],
   "source": [
    "df1['Age'].fillna(df1['Age'].mean(),inplace=True)"
   ]
  },
  {
   "cell_type": "code",
   "execution_count": 29,
   "id": "978a3619-2bde-4929-a1c9-f72aa0a6a5cc",
   "metadata": {},
   "outputs": [
    {
     "name": "stdout",
     "output_type": "stream",
     "text": [
      "<class 'pandas.core.frame.DataFrame'>\n",
      "RangeIndex: 418 entries, 0 to 417\n",
      "Data columns (total 6 columns):\n",
      " #   Column  Non-Null Count  Dtype  \n",
      "---  ------  --------------  -----  \n",
      " 0   Pclass  418 non-null    int64  \n",
      " 1   Sex     418 non-null    int64  \n",
      " 2   Age     418 non-null    float64\n",
      " 3   SibSp   418 non-null    int64  \n",
      " 4   Parch   418 non-null    int64  \n",
      " 5   Fare    417 non-null    float64\n",
      "dtypes: float64(2), int64(4)\n",
      "memory usage: 19.7 KB\n"
     ]
    }
   ],
   "source": [
    "df1.info()"
   ]
  },
  {
   "cell_type": "code",
   "execution_count": 31,
   "id": "7e5f8abf-68b1-4740-8013-28b7cc6ef5ce",
   "metadata": {},
   "outputs": [
    {
     "name": "stderr",
     "output_type": "stream",
     "text": [
      "/var/folders/l4/hzr9pnz537ld_hkhgw859klm0000gn/T/ipykernel_1152/3603713892.py:1: SettingWithCopyWarning: \n",
      "A value is trying to be set on a copy of a slice from a DataFrame\n",
      "\n",
      "See the caveats in the documentation: https://pandas.pydata.org/pandas-docs/stable/user_guide/indexing.html#returning-a-view-versus-a-copy\n",
      "  df1['Fare'].fillna(df1['Fare'].median(),inplace=True)\n"
     ]
    }
   ],
   "source": [
    "df1['Fare'].fillna(df1['Fare'].median(),inplace=True)"
   ]
  },
  {
   "cell_type": "code",
   "execution_count": 32,
   "id": "f7652c97-a1d1-4647-bda8-012b4c2b422a",
   "metadata": {},
   "outputs": [
    {
     "name": "stdout",
     "output_type": "stream",
     "text": [
      "<class 'pandas.core.frame.DataFrame'>\n",
      "RangeIndex: 418 entries, 0 to 417\n",
      "Data columns (total 6 columns):\n",
      " #   Column  Non-Null Count  Dtype  \n",
      "---  ------  --------------  -----  \n",
      " 0   Pclass  418 non-null    int64  \n",
      " 1   Sex     418 non-null    int64  \n",
      " 2   Age     418 non-null    float64\n",
      " 3   SibSp   418 non-null    int64  \n",
      " 4   Parch   418 non-null    int64  \n",
      " 5   Fare    418 non-null    float64\n",
      "dtypes: float64(2), int64(4)\n",
      "memory usage: 19.7 KB\n"
     ]
    }
   ],
   "source": [
    "df1.info()"
   ]
  },
  {
   "cell_type": "code",
   "execution_count": 55,
   "id": "dfce3fa6-2dba-48c0-b1f2-ee3769c54cc0",
   "metadata": {},
   "outputs": [],
   "source": [
    "X_df = df1"
   ]
  },
  {
   "cell_type": "code",
   "execution_count": 56,
   "id": "f8047c15-da30-4169-8792-d4b38c2d1729",
   "metadata": {},
   "outputs": [],
   "source": [
    "Y_df = df['Survived']"
   ]
  },
  {
   "cell_type": "code",
   "execution_count": 57,
   "id": "9d0bac56-0e0e-4654-9482-a8f3953a9154",
   "metadata": {},
   "outputs": [
    {
     "data": {
      "text/plain": [
       "0      0\n",
       "1      1\n",
       "2      0\n",
       "3      0\n",
       "4      1\n",
       "      ..\n",
       "413    0\n",
       "414    1\n",
       "415    0\n",
       "416    0\n",
       "417    0\n",
       "Name: Survived, Length: 418, dtype: int64"
      ]
     },
     "execution_count": 57,
     "metadata": {},
     "output_type": "execute_result"
    }
   ],
   "source": [
    "Y_df"
   ]
  },
  {
   "cell_type": "code",
   "execution_count": 58,
   "id": "1c9c611c-e398-402d-adfa-e16949c92f39",
   "metadata": {},
   "outputs": [],
   "source": [
    "X_df = torch.tensor(X_df.to_numpy(),dtype=torch.float32)"
   ]
  },
  {
   "cell_type": "code",
   "execution_count": 59,
   "id": "67c6967b-4d2c-4f49-8286-876d2cd0ae1d",
   "metadata": {},
   "outputs": [],
   "source": [
    "Y_df = torch.tensor(Y_df.to_numpy(),dtype=torch.float32)"
   ]
  },
  {
   "cell_type": "code",
   "execution_count": 60,
   "id": "e39fc985-1241-4f38-933a-1a7ead3f094f",
   "metadata": {},
   "outputs": [
    {
     "data": {
      "text/plain": [
       "torch.Size([418, 6])"
      ]
     },
     "execution_count": 60,
     "metadata": {},
     "output_type": "execute_result"
    }
   ],
   "source": [
    "X_df.shape"
   ]
  },
  {
   "cell_type": "code",
   "execution_count": 61,
   "id": "eedbeada-4655-4f0d-b541-1763adf3ba30",
   "metadata": {},
   "outputs": [
    {
     "data": {
      "text/plain": [
       "torch.float32"
      ]
     },
     "execution_count": 61,
     "metadata": {},
     "output_type": "execute_result"
    }
   ],
   "source": [
    "X_df.dtype"
   ]
  },
  {
   "cell_type": "code",
   "execution_count": 62,
   "id": "6f93fdf8-96ad-4502-8876-91f99ad7eb6d",
   "metadata": {},
   "outputs": [
    {
     "data": {
      "text/plain": [
       "torch.Size([418])"
      ]
     },
     "execution_count": 62,
     "metadata": {},
     "output_type": "execute_result"
    }
   ],
   "source": [
    "Y_df.shape"
   ]
  },
  {
   "cell_type": "code",
   "execution_count": 145,
   "id": "31f7c249-4c21-4d07-8980-64999fcd8937",
   "metadata": {},
   "outputs": [],
   "source": [
    "W = torch.randn((6,1),dtype=torch.float32)"
   ]
  },
  {
   "cell_type": "code",
   "execution_count": 146,
   "id": "d5f1fd9b-55a4-42b9-8427-9e438daf7bcc",
   "metadata": {},
   "outputs": [
    {
     "data": {
      "text/plain": [
       "torch.float32"
      ]
     },
     "execution_count": 146,
     "metadata": {},
     "output_type": "execute_result"
    }
   ],
   "source": [
    "W.dtype"
   ]
  },
  {
   "cell_type": "code",
   "execution_count": null,
   "id": "b3f72c2f-fbb5-4b5e-9158-45bab2d30553",
   "metadata": {},
   "outputs": [],
   "source": []
  },
  {
   "cell_type": "code",
   "execution_count": 147,
   "id": "83e55f20-b0aa-458f-999d-66a9cda26349",
   "metadata": {},
   "outputs": [],
   "source": [
    "dot = X_df @ W"
   ]
  },
  {
   "cell_type": "code",
   "execution_count": 148,
   "id": "4fec867d-6bbc-471f-abb3-8f3290bab704",
   "metadata": {},
   "outputs": [],
   "source": [
    "b = torch.rand(1)"
   ]
  },
  {
   "cell_type": "code",
   "execution_count": 149,
   "id": "cea1c06a-3b4c-468e-852d-72782fd6f544",
   "metadata": {},
   "outputs": [],
   "source": [
    "y_pred = dot + b"
   ]
  },
  {
   "cell_type": "code",
   "execution_count": 150,
   "id": "61f97fdf-c7f9-412a-96fa-dcf7e214efec",
   "metadata": {},
   "outputs": [
    {
     "name": "stderr",
     "output_type": "stream",
     "text": [
      "/var/folders/l4/hzr9pnz537ld_hkhgw859klm0000gn/T/ipykernel_1152/1022390117.py:1: UserWarning: Using a target size (torch.Size([418])) that is different to the input size (torch.Size([418, 1])). This will likely lead to incorrect results due to broadcasting. Please ensure they have the same size.\n",
      "  loss = F.mse_loss(y_pred,Y_df)\n"
     ]
    }
   ],
   "source": [
    "loss = F.mse_loss(y_pred,Y_df)"
   ]
  },
  {
   "cell_type": "code",
   "execution_count": 151,
   "id": "4cd2de33-2028-4dc1-93a1-14a856d444db",
   "metadata": {},
   "outputs": [
    {
     "ename": "RuntimeError",
     "evalue": "element 0 of tensors does not require grad and does not have a grad_fn",
     "output_type": "error",
     "traceback": [
      "\u001b[0;31m---------------------------------------------------------------------------\u001b[0m",
      "\u001b[0;31mRuntimeError\u001b[0m                              Traceback (most recent call last)",
      "Cell \u001b[0;32mIn[151], line 3\u001b[0m\n\u001b[1;32m      1\u001b[0m W\u001b[38;5;241m.\u001b[39mrequires_grad \u001b[38;5;241m=\u001b[39m \u001b[38;5;28;01mTrue\u001b[39;00m\n\u001b[1;32m      2\u001b[0m W\u001b[38;5;241m.\u001b[39mgrad \u001b[38;5;241m=\u001b[39m \u001b[38;5;28;01mNone\u001b[39;00m\n\u001b[0;32m----> 3\u001b[0m \u001b[43mloss\u001b[49m\u001b[38;5;241;43m.\u001b[39;49m\u001b[43mbackward\u001b[49m\u001b[43m(\u001b[49m\u001b[43m)\u001b[49m\n",
      "File \u001b[0;32m~/GTK/DeepLearningAI/env/lib/python3.11/site-packages/torch/_tensor.py:487\u001b[0m, in \u001b[0;36mTensor.backward\u001b[0;34m(self, gradient, retain_graph, create_graph, inputs)\u001b[0m\n\u001b[1;32m    477\u001b[0m \u001b[38;5;28;01mif\u001b[39;00m has_torch_function_unary(\u001b[38;5;28mself\u001b[39m):\n\u001b[1;32m    478\u001b[0m     \u001b[38;5;28;01mreturn\u001b[39;00m handle_torch_function(\n\u001b[1;32m    479\u001b[0m         Tensor\u001b[38;5;241m.\u001b[39mbackward,\n\u001b[1;32m    480\u001b[0m         (\u001b[38;5;28mself\u001b[39m,),\n\u001b[0;32m   (...)\u001b[0m\n\u001b[1;32m    485\u001b[0m         inputs\u001b[38;5;241m=\u001b[39minputs,\n\u001b[1;32m    486\u001b[0m     )\n\u001b[0;32m--> 487\u001b[0m \u001b[43mtorch\u001b[49m\u001b[38;5;241;43m.\u001b[39;49m\u001b[43mautograd\u001b[49m\u001b[38;5;241;43m.\u001b[39;49m\u001b[43mbackward\u001b[49m\u001b[43m(\u001b[49m\n\u001b[1;32m    488\u001b[0m \u001b[43m    \u001b[49m\u001b[38;5;28;43mself\u001b[39;49m\u001b[43m,\u001b[49m\u001b[43m \u001b[49m\u001b[43mgradient\u001b[49m\u001b[43m,\u001b[49m\u001b[43m \u001b[49m\u001b[43mretain_graph\u001b[49m\u001b[43m,\u001b[49m\u001b[43m \u001b[49m\u001b[43mcreate_graph\u001b[49m\u001b[43m,\u001b[49m\u001b[43m \u001b[49m\u001b[43minputs\u001b[49m\u001b[38;5;241;43m=\u001b[39;49m\u001b[43minputs\u001b[49m\n\u001b[1;32m    489\u001b[0m \u001b[43m\u001b[49m\u001b[43m)\u001b[49m\n",
      "File \u001b[0;32m~/GTK/DeepLearningAI/env/lib/python3.11/site-packages/torch/autograd/__init__.py:200\u001b[0m, in \u001b[0;36mbackward\u001b[0;34m(tensors, grad_tensors, retain_graph, create_graph, grad_variables, inputs)\u001b[0m\n\u001b[1;32m    195\u001b[0m     retain_graph \u001b[38;5;241m=\u001b[39m create_graph\n\u001b[1;32m    197\u001b[0m \u001b[38;5;66;03m# The reason we repeat same the comment below is that\u001b[39;00m\n\u001b[1;32m    198\u001b[0m \u001b[38;5;66;03m# some Python versions print out the first line of a multi-line function\u001b[39;00m\n\u001b[1;32m    199\u001b[0m \u001b[38;5;66;03m# calls in the traceback and some print out the last line\u001b[39;00m\n\u001b[0;32m--> 200\u001b[0m \u001b[43mVariable\u001b[49m\u001b[38;5;241;43m.\u001b[39;49m\u001b[43m_execution_engine\u001b[49m\u001b[38;5;241;43m.\u001b[39;49m\u001b[43mrun_backward\u001b[49m\u001b[43m(\u001b[49m\u001b[43m  \u001b[49m\u001b[38;5;66;43;03m# Calls into the C++ engine to run the backward pass\u001b[39;49;00m\n\u001b[1;32m    201\u001b[0m \u001b[43m    \u001b[49m\u001b[43mtensors\u001b[49m\u001b[43m,\u001b[49m\u001b[43m \u001b[49m\u001b[43mgrad_tensors_\u001b[49m\u001b[43m,\u001b[49m\u001b[43m \u001b[49m\u001b[43mretain_graph\u001b[49m\u001b[43m,\u001b[49m\u001b[43m \u001b[49m\u001b[43mcreate_graph\u001b[49m\u001b[43m,\u001b[49m\u001b[43m \u001b[49m\u001b[43minputs\u001b[49m\u001b[43m,\u001b[49m\n\u001b[1;32m    202\u001b[0m \u001b[43m    \u001b[49m\u001b[43mallow_unreachable\u001b[49m\u001b[38;5;241;43m=\u001b[39;49m\u001b[38;5;28;43;01mTrue\u001b[39;49;00m\u001b[43m,\u001b[49m\u001b[43m \u001b[49m\u001b[43maccumulate_grad\u001b[49m\u001b[38;5;241;43m=\u001b[39;49m\u001b[38;5;28;43;01mTrue\u001b[39;49;00m\u001b[43m)\u001b[49m\n",
      "\u001b[0;31mRuntimeError\u001b[0m: element 0 of tensors does not require grad and does not have a grad_fn"
     ]
    }
   ],
   "source": [
    "W.requires_grad = True\n",
    "W.grad = None\n",
    "loss.backward()"
   ]
  },
  {
   "cell_type": "code",
   "execution_count": 136,
   "id": "a0066e79-a31f-4160-b8d2-c87428d22d92",
   "metadata": {},
   "outputs": [
    {
     "name": "stderr",
     "output_type": "stream",
     "text": [
      "/var/folders/l4/hzr9pnz537ld_hkhgw859klm0000gn/T/ipykernel_1152/1614539626.py:1: UserWarning: The .grad attribute of a Tensor that is not a leaf Tensor is being accessed. Its .grad attribute won't be populated during autograd.backward(). If you indeed want the .grad field to be populated for a non-leaf Tensor, use .retain_grad() on the non-leaf Tensor. If you access the non-leaf Tensor by mistake, make sure you access the leaf Tensor instead. See github.com/pytorch/pytorch/pull/30531 for more informations. (Triggered internally at /Users/runner/work/pytorch/pytorch/pytorch/build/aten/src/ATen/core/TensorBody.h:491.)\n",
      "  W.grad\n"
     ]
    }
   ],
   "source": [
    "W.grad"
   ]
  },
  {
   "cell_type": "code",
   "execution_count": 129,
   "id": "a4267a37-9863-4cb5-bb01-b7dd292a4dcf",
   "metadata": {},
   "outputs": [],
   "source": [
    "W = W - 0.01*W.grad"
   ]
  },
  {
   "cell_type": "code",
   "execution_count": 85,
   "id": "95fbf2df-513e-4ec3-a96a-ba0e755c9f58",
   "metadata": {},
   "outputs": [],
   "source": []
  },
  {
   "cell_type": "code",
   "execution_count": 86,
   "id": "38c70f8a-42c3-49c0-965e-f7f0f5ba4bf6",
   "metadata": {},
   "outputs": [
    {
     "data": {
      "text/plain": [
       "tensor([[ -0.9421],\n",
       "        [  0.2403],\n",
       "        [-39.4923],\n",
       "        [  0.2070],\n",
       "        [ -0.2807],\n",
       "        [-79.6047]], grad_fn=<SubBackward0>)"
      ]
     },
     "execution_count": 86,
     "metadata": {},
     "output_type": "execute_result"
    }
   ],
   "source": [
    "W"
   ]
  },
  {
   "cell_type": "code",
   "execution_count": null,
   "id": "e0b518a6-3558-4874-b80e-5f0f16f6f312",
   "metadata": {},
   "outputs": [],
   "source": []
  },
  {
   "cell_type": "code",
   "execution_count": 79,
   "id": "14c28521-e9df-4a33-92cb-54b48722c9e1",
   "metadata": {},
   "outputs": [
    {
     "name": "stdout",
     "output_type": "stream",
     "text": [
      "Help on function mse_loss in module torch.nn.functional:\n",
      "\n",
      "mse_loss(input: torch.Tensor, target: torch.Tensor, size_average: Optional[bool] = None, reduce: Optional[bool] = None, reduction: str = 'mean') -> torch.Tensor\n",
      "    mse_loss(input, target, size_average=None, reduce=None, reduction='mean') -> Tensor\n",
      "    \n",
      "    Measures the element-wise mean squared error.\n",
      "    \n",
      "    See :class:`~torch.nn.MSELoss` for details.\n",
      "\n"
     ]
    }
   ],
   "source": [
    "help(F.mse_loss)"
   ]
  },
  {
   "cell_type": "code",
   "execution_count": 71,
   "id": "17e1ded0-3012-400c-8f5d-9b3254494d6c",
   "metadata": {},
   "outputs": [
    {
     "data": {
      "text/plain": [
       "tensor([[46.9952, 45.9952, 46.9952,  ..., 46.9952, 46.9952, 46.9952],\n",
       "        [62.1034, 61.1034, 62.1034,  ..., 62.1034, 62.1034, 62.1034],\n",
       "        [77.6706, 76.6706, 77.6706,  ..., 77.6706, 77.6706, 77.6706],\n",
       "        ...,\n",
       "        [51.1661, 50.1661, 51.1661,  ..., 51.1661, 51.1661, 51.1661],\n",
       "        [42.3687, 41.3687, 42.3687,  ..., 42.3687, 42.3687, 42.3687],\n",
       "        [51.4710, 50.4710, 51.4710,  ..., 51.4710, 51.4710, 51.4710]],\n",
       "       grad_fn=<SubBackward0>)"
      ]
     },
     "execution_count": 71,
     "metadata": {},
     "output_type": "execute_result"
    }
   ],
   "source": []
  },
  {
   "cell_type": "code",
   "execution_count": null,
   "id": "4d7ae58e-8ceb-4577-9e1d-af2b7b7a1545",
   "metadata": {},
   "outputs": [],
   "source": []
  }
 ],
 "metadata": {
  "kernelspec": {
   "display_name": "Python 3 (ipykernel)",
   "language": "python",
   "name": "python3"
  },
  "language_info": {
   "codemirror_mode": {
    "name": "ipython",
    "version": 3
   },
   "file_extension": ".py",
   "mimetype": "text/x-python",
   "name": "python",
   "nbconvert_exporter": "python",
   "pygments_lexer": "ipython3",
   "version": "3.11.3"
  }
 },
 "nbformat": 4,
 "nbformat_minor": 5
}
