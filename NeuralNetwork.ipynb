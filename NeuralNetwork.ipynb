{
 "cells": [
  {
   "cell_type": "code",
   "execution_count": 1,
   "id": "ba0efb5f-134a-4493-a495-64ca24165a45",
   "metadata": {},
   "outputs": [],
   "source": [
    "import torch\n",
    "import numpy as np\n",
    "import pandas as pd\n",
    "import torch.nn.functional as F"
   ]
  },
  {
   "cell_type": "code",
   "execution_count": 7,
   "id": "4fbebf9c-5e32-4406-8204-48d9a976c4f9",
   "metadata": {},
   "outputs": [],
   "source": [
    "def preprocess_data(data_path):\n",
    "    data = pd.read_csv(data_path)\n",
    "    features = data.columns.to_list()\n",
    "    features.remove('PassengerId')\n",
    "    features.remove('Name')\n",
    "    features.remove('Ticket')\n",
    "    features.remove('Embarked')\n",
    "    features.remove('Parch')\n",
    "    features.remove('Cabin')\n",
    "    features.remove('Pclass')\n",
    "    features.remove('Survived')\n",
    "    x_data = data[features]\n",
    "    y_data = data['Survived']\n",
    "    x_data['Sex'] = x_data['Sex'].apply(lambda x:0 if x=='male' else 1)\n",
    "    x_data['Age'].fillna(x_data['Age'].mean(),inplace=True)\n",
    "    x_data['Fare'].fillna(x_data['Fare'].median(),inplace=True)\n",
    "    x_data = torch.tensor(x_data.to_numpy(),dtype=torch.float32) ## Computation on top of this array will be executed on GPU\n",
    "    y_data = torch.tensor(y_data.to_numpy(),dtype=torch.float32)\n",
    "    return x_data.T,y_data"
   ]
  },
  {
   "cell_type": "code",
   "execution_count": 8,
   "id": "8b355252-0b8d-4f21-bdd3-3beb5a348295",
   "metadata": {},
   "outputs": [
    {
     "name": "stderr",
     "output_type": "stream",
     "text": [
      "/var/folders/l4/hzr9pnz537ld_hkhgw859klm0000gn/T/ipykernel_1268/926986534.py:14: SettingWithCopyWarning: \n",
      "A value is trying to be set on a copy of a slice from a DataFrame.\n",
      "Try using .loc[row_indexer,col_indexer] = value instead\n",
      "\n",
      "See the caveats in the documentation: https://pandas.pydata.org/pandas-docs/stable/user_guide/indexing.html#returning-a-view-versus-a-copy\n",
      "  x_data['Sex'] = x_data['Sex'].apply(lambda x:0 if x=='male' else 1)\n",
      "/var/folders/l4/hzr9pnz537ld_hkhgw859klm0000gn/T/ipykernel_1268/926986534.py:15: SettingWithCopyWarning: \n",
      "A value is trying to be set on a copy of a slice from a DataFrame\n",
      "\n",
      "See the caveats in the documentation: https://pandas.pydata.org/pandas-docs/stable/user_guide/indexing.html#returning-a-view-versus-a-copy\n",
      "  x_data['Age'].fillna(x_data['Age'].mean(),inplace=True)\n",
      "/var/folders/l4/hzr9pnz537ld_hkhgw859klm0000gn/T/ipykernel_1268/926986534.py:16: SettingWithCopyWarning: \n",
      "A value is trying to be set on a copy of a slice from a DataFrame\n",
      "\n",
      "See the caveats in the documentation: https://pandas.pydata.org/pandas-docs/stable/user_guide/indexing.html#returning-a-view-versus-a-copy\n",
      "  x_data['Fare'].fillna(x_data['Fare'].median(),inplace=True)\n"
     ]
    }
   ],
   "source": [
    "x_data,y_data = preprocess_data('tested.csv')"
   ]
  },
  {
   "cell_type": "code",
   "execution_count": 24,
   "id": "3698e7f9-38cb-43b3-bca3-8f24e367c82c",
   "metadata": {},
   "outputs": [
    {
     "data": {
      "text/plain": [
       "(torch.Size([4, 418]), torch.Size([418]))"
      ]
     },
     "execution_count": 24,
     "metadata": {},
     "output_type": "execute_result"
    }
   ],
   "source": [
    "x_data.shape,y_data.shape"
   ]
  },
  {
   "cell_type": "code",
   "execution_count": 66,
   "id": "fae16d8f-275f-4c36-83bf-1bddd958708e",
   "metadata": {},
   "outputs": [],
   "source": [
    "def get_params(n,l1):\n",
    "    W1 = torch.randn((n,l1),dtype=torch.float32,requires_grad = True)\n",
    "    b1 = torch.randn((l1,),dtype=torch.float32,requires_grad = True)\n",
    "    W2 = torch.randn((l1,),dtype=torch.float32,requires_grad = True)\n",
    "    b2 = torch.randn((1,),dtype=torch.float32,requires_grad=True)\n",
    "    return W1,b1,W2,b2"
   ]
  },
  {
   "cell_type": "code",
   "execution_count": 67,
   "id": "156bec60-c4d5-477f-a85e-2d32656cd328",
   "metadata": {},
   "outputs": [],
   "source": [
    "def forward(X,Y,W1,b1,W2,b2):\n",
    "    Z1 = W1.T @ x_data \n",
    "    A1 = F.relu(Z1)\n",
    "    Z2 = W2.T @ A1 \n",
    "    A2 = F.sigmoid(Z2)\n",
    "    loss = F.binary_cross_entropy(A2,y_data)\n",
    "    return loss"
   ]
  },
  {
   "cell_type": "code",
   "execution_count": 75,
   "id": "ced6bb02-fc3f-448d-b7f5-5529fe235087",
   "metadata": {},
   "outputs": [],
   "source": [
    "def backward(loss,W1,b1,W2,b2):\n",
    "    W1.grad = None\n",
    "    W2.grad = None\n",
    "    loss.backward()\n",
    "    W1.data -= (0.1) * (W1.grad)\n",
    "    W2.data -= (0.1) * (W2.grad)\n",
    "    return W1,W2"
   ]
  },
  {
   "cell_type": "code",
   "execution_count": 76,
   "id": "5710e5a9-7fc7-44c2-b5a7-b2b7748025ee",
   "metadata": {},
   "outputs": [],
   "source": [
    "def train(X,Y):\n",
    "    W1,b1,W2,b2 = get_params(4,4)\n",
    "    for iteration in range(100):\n",
    "        loss = forward(X,Y,W1,b1,W2,b2)\n",
    "        W1,W2 = backward(loss,W1,b1,W2,b2)\n",
    "        print(f\"Loss after {iteration}: {loss}\")"
   ]
  },
  {
   "cell_type": "code",
   "execution_count": 77,
   "id": "0f14add0-1779-4a80-87f5-dde6184fe58d",
   "metadata": {},
   "outputs": [
    {
     "name": "stdout",
     "output_type": "stream",
     "text": [
      "Loss after 0: 17.83586311340332\n",
      "Loss after 1: 36.58770751953125\n",
      "Loss after 2: 5.150224685668945\n",
      "Loss after 3: 2.788870334625244\n",
      "Loss after 4: 6.128706455230713\n",
      "Loss after 5: 3.840625762939453\n",
      "Loss after 6: 1.189003586769104\n",
      "Loss after 7: 1.7929822206497192\n",
      "Loss after 8: 0.792607843875885\n",
      "Loss after 9: 0.7422385215759277\n",
      "Loss after 10: 0.7739688754081726\n",
      "Loss after 11: 0.664193868637085\n",
      "Loss after 12: 0.6497581005096436\n",
      "Loss after 13: 0.6462661623954773\n",
      "Loss after 14: 0.6438620686531067\n",
      "Loss after 15: 0.6423622965812683\n",
      "Loss after 16: 0.6415045857429504\n",
      "Loss after 17: 0.6408703327178955\n",
      "Loss after 18: 0.6403250098228455\n",
      "Loss after 19: 0.6398763656616211\n",
      "Loss after 20: 0.6393342018127441\n",
      "Loss after 21: 0.6389802694320679\n",
      "Loss after 22: 0.638615071773529\n",
      "Loss after 23: 0.6383011341094971\n",
      "Loss after 24: 0.6380271911621094\n",
      "Loss after 25: 0.6376669406890869\n",
      "Loss after 26: 0.6372765302658081\n",
      "Loss after 27: 0.6367805004119873\n",
      "Loss after 28: 0.6361074447631836\n",
      "Loss after 29: 0.6354281306266785\n",
      "Loss after 30: 0.6348419785499573\n",
      "Loss after 31: 0.6342855095863342\n",
      "Loss after 32: 0.633733332157135\n",
      "Loss after 33: 0.6332406401634216\n",
      "Loss after 34: 0.6327959895133972\n",
      "Loss after 35: 0.6323508024215698\n",
      "Loss after 36: 0.6318686008453369\n",
      "Loss after 37: 0.6314283013343811\n",
      "Loss after 38: 0.6309683918952942\n",
      "Loss after 39: 0.6305567026138306\n",
      "Loss after 40: 0.6301853656768799\n",
      "Loss after 41: 0.6298542022705078\n",
      "Loss after 42: 0.6295633316040039\n",
      "Loss after 43: 0.6292034387588501\n",
      "Loss after 44: 0.6287688612937927\n",
      "Loss after 45: 0.628145158290863\n",
      "Loss after 46: 0.6275119185447693\n",
      "Loss after 47: 0.626824140548706\n",
      "Loss after 48: 0.626228392124176\n",
      "Loss after 49: 0.6258580088615417\n",
      "Loss after 50: 0.6255506277084351\n",
      "Loss after 51: 0.6252867579460144\n",
      "Loss after 52: 0.625068724155426\n",
      "Loss after 53: 0.6248776912689209\n",
      "Loss after 54: 0.6246948838233948\n",
      "Loss after 55: 0.6245428919792175\n",
      "Loss after 56: 0.6244059205055237\n",
      "Loss after 57: 0.6243162751197815\n",
      "Loss after 58: 0.624252438545227\n",
      "Loss after 59: 0.6241926550865173\n",
      "Loss after 60: 0.6241439580917358\n",
      "Loss after 61: 0.6241079568862915\n",
      "Loss after 62: 0.6240736842155457\n",
      "Loss after 63: 0.6240408420562744\n",
      "Loss after 64: 0.6240089535713196\n",
      "Loss after 65: 0.623978316783905\n",
      "Loss after 66: 0.6239486932754517\n",
      "Loss after 67: 0.6239199638366699\n",
      "Loss after 68: 0.6238921880722046\n",
      "Loss after 69: 0.6238651275634766\n",
      "Loss after 70: 0.6238389611244202\n",
      "Loss after 71: 0.6238105297088623\n",
      "Loss after 72: 0.6237728595733643\n",
      "Loss after 73: 0.6237284541130066\n",
      "Loss after 74: 0.6236861348152161\n",
      "Loss after 75: 0.6236443519592285\n",
      "Loss after 76: 0.6235964894294739\n",
      "Loss after 77: 0.6235508322715759\n",
      "Loss after 78: 0.6235072612762451\n",
      "Loss after 79: 0.6234654188156128\n",
      "Loss after 80: 0.6234253644943237\n",
      "Loss after 81: 0.6233868598937988\n",
      "Loss after 82: 0.6233488917350769\n",
      "Loss after 83: 0.6232945919036865\n",
      "Loss after 84: 0.6232486963272095\n",
      "Loss after 85: 0.6232048869132996\n",
      "Loss after 86: 0.6231628060340881\n",
      "Loss after 87: 0.62312251329422\n",
      "Loss after 88: 0.623083770275116\n",
      "Loss after 89: 0.6230487823486328\n",
      "Loss after 90: 0.6230191588401794\n",
      "Loss after 91: 0.6229860782623291\n",
      "Loss after 92: 0.6229349970817566\n",
      "Loss after 93: 0.6228864789009094\n",
      "Loss after 94: 0.6228296756744385\n",
      "Loss after 95: 0.6227312088012695\n",
      "Loss after 96: 0.6226116418838501\n",
      "Loss after 97: 0.622504472732544\n",
      "Loss after 98: 0.6224135160446167\n",
      "Loss after 99: 0.6223054528236389\n"
     ]
    }
   ],
   "source": [
    "train(x_data,y_data)"
   ]
  },
  {
   "cell_type": "code",
   "execution_count": null,
   "id": "5369c9cb-9669-4073-8fc5-557c3d978d51",
   "metadata": {},
   "outputs": [],
   "source": []
  }
 ],
 "metadata": {
  "kernelspec": {
   "display_name": "Python 3 (ipykernel)",
   "language": "python",
   "name": "python3"
  },
  "language_info": {
   "codemirror_mode": {
    "name": "ipython",
    "version": 3
   },
   "file_extension": ".py",
   "mimetype": "text/x-python",
   "name": "python",
   "nbconvert_exporter": "python",
   "pygments_lexer": "ipython3",
   "version": "3.11.3"
  }
 },
 "nbformat": 4,
 "nbformat_minor": 5
}
